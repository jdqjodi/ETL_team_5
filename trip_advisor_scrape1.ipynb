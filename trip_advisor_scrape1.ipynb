{
 "cells": [
  {
   "cell_type": "code",
   "execution_count": 1,
   "metadata": {},
   "outputs": [],
   "source": [
    "# Dependencies\n",
    "import os\n",
    "import requests\n",
    "import ssl\n",
    "from bs4 import BeautifulSoup as bs\n",
    "import urllib.request, urllib.parse, urllib.error\n",
    "#import warnings if not sys.warnoptions:\n",
    "    #warnings.simplefilter(\"ignore\")#For ignoring SSL certificate errors\n",
    "ctx = ssl.create_default_context()\n",
    "ctx.check_hostname = False\n",
    "ctx.verify_mode = ssl.CERT_NONE# url = input('Enter url - ' )"
   ]
  },
  {
   "cell_type": "code",
   "execution_count": 2,
   "metadata": {},
   "outputs": [],
   "source": [
    "# URL of page to be scraped\n",
    "# check in 04-01-2019 check out 04-30-2019\n",
    "url = \"https://www.tripadvisor.ca/CheapFlightsSearchResults-g60982-a_airport0.YTO-a_airport1.HNL-a_cos.0-a_date0.20190131-a_date1.20190207-a_formImp.eb4cac53__2D__ceeb__2D__484c__2D__86db__2D__6c2763f8de6c__2E__5056-a_nearby0.no-a_nearby1.no-a_nonstop.no-a_pax0.a-a_travelers.1-Honolulu_Oahu_Hawaii.html\""
   ]
  },
  {
   "cell_type": "code",
   "execution_count": 3,
   "metadata": {},
   "outputs": [],
   "source": [
    "html = urllib.request.urlopen(url, context=ctx).read()"
   ]
  },
  {
   "cell_type": "code",
   "execution_count": 4,
   "metadata": {},
   "outputs": [],
   "source": [
    "soup = bs(html, 'html.parser')"
   ]
  },
  {
   "cell_type": "code",
   "execution_count": 6,
   "metadata": {},
   "outputs": [],
   "source": [
    "# Examine the results, then determine element that contains sought info\n",
    "html = soup.prettify(\"utf-8\")"
   ]
  },
  {
   "cell_type": "code",
   "execution_count": 7,
   "metadata": {},
   "outputs": [
    {
     "data": {
      "text/plain": [
       "[]"
      ]
     },
     "execution_count": 7,
     "metadata": {},
     "output_type": "execute_result"
    }
   ],
   "source": [
    "# hotel names\n",
    "name_results = soup.find_all(\"div\", class_=\"flights-search-results-itinerary-card-components-Title__left--l9JMM\"\n",
    "#<div class=\"flights-search-results-itinerary-card-components-RightCTAColumn__price--zEpUa\">C$545</div>\n",
    "#<div class=\"flights-search-results-itinerary-card-components-Title__container--6zv-l\"><div class=\"flights-search-results-itinerary-card-components-Title__left--l9JMM\"><span class=\"flights-search-results-itinerary-card-components-Title__price--2FcJs\">C$545</span></div><div class=\"flights-search-results-itinerary-card-components-Title__right--AF1AD\"></div></div>\n",
    "name_results"
   ]
  },
  {
   "cell_type": "code",
   "execution_count": 95,
   "metadata": {},
   "outputs": [
    {
     "name": "stdout",
     "output_type": "stream",
     "text": [
      "-------------\n",
      "Holiday Inn Express Waikiki\n",
      "-------------\n",
      "Hotel La Croix\n",
      "-------------\n",
      "The Modern Honolulu\n",
      "-------------\n",
      "Outrigger Waikiki Beach Resort\n",
      "-------------\n",
      "Vive Hotel Waikiki\n",
      "-------------\n",
      "Prince Waikiki\n",
      "-------------\n",
      "Holiday Inn Express Waikiki\n",
      "-------------\n",
      "Hilton Waikiki Beach\n",
      "-------------\n",
      "Shoreline Hotel Waikiki\n",
      "-------------\n",
      "‘Alohilani Resort Waikiki Beach\n",
      "-------------\n",
      "Park Shore Waikiki\n",
      "-------------\n",
      "Hyatt Regency Waikiki Beach Resort & Spa\n",
      "-------------\n",
      "Hyatt Place Waikiki Beach\n",
      "-------------\n",
      "Coconut Waikiki Hotel\n",
      "-------------\n",
      "Sheraton Waikiki\n",
      "-------------\n",
      "Aqua Oasis\n",
      "-------------\n",
      "Hyatt Centric Waikiki Beach\n",
      "-------------\n",
      "Outrigger Reef Waikiki Beach Resort\n",
      "-------------\n",
      "The Surfjack Hotel & Swim Club\n",
      "-------------\n",
      "Moana Surfrider, A Westin Resort & Spa, Waikiki Beach\n",
      "-------------\n",
      "Embassy Suites by Hilton Waikiki Beach Walk\n",
      "-------------\n",
      "Waikiki Resort Hotel\n",
      "-------------\n",
      "Waikiki Beachcomber by Outrigger\n",
      "-------------\n",
      "Trump International Hotel Waikiki\n",
      "-------------\n",
      "Luana Waikiki Hotel & Suites\n",
      "-------------\n",
      "Royal Grove Hotel\n",
      "-------------\n",
      "The New Otani Kaimana Beach Hotel\n",
      "-------------\n",
      "Ilikai Hotel & Luxury Suites\n",
      "-------------\n",
      "Hilton Garden Inn Waikiki Beach\n",
      "-------------\n",
      "Hotel Renew\n",
      "-------------\n",
      "The Kahala Hotel & Resort\n",
      "-------------\n",
      "Lotus Honolulu at Diamond Head\n"
     ]
    }
   ],
   "source": [
    "# loop through returned results\n",
    "hotel_names = []\n",
    "for result in name_results:\n",
    "    # Error handling\n",
    "    try:\n",
    "        # Identify and return name of hotel\n",
    "        name = result.find('a').text\n",
    "        \n",
    "        # Print results only if title, price, and link are available\n",
    "        if (name):\n",
    "            print('-------------')\n",
    "            print(name)\n",
    "            hotel_names.append(name)\n",
    "    except AttributeError as e:\n",
    "        print(e)"
   ]
  },
  {
   "cell_type": "code",
   "execution_count": 96,
   "metadata": {},
   "outputs": [
    {
     "data": {
      "text/plain": [
       "['Holiday Inn Express Waikiki',\n",
       " 'Hotel La Croix',\n",
       " 'The Modern Honolulu',\n",
       " 'Outrigger Waikiki Beach Resort',\n",
       " 'Vive Hotel Waikiki',\n",
       " 'Prince Waikiki',\n",
       " 'Holiday Inn Express Waikiki',\n",
       " 'Hilton Waikiki Beach',\n",
       " 'Shoreline Hotel Waikiki',\n",
       " '‘Alohilani Resort Waikiki Beach',\n",
       " 'Park Shore Waikiki',\n",
       " 'Hyatt Regency Waikiki Beach Resort & Spa',\n",
       " 'Hyatt Place Waikiki Beach',\n",
       " 'Coconut Waikiki Hotel',\n",
       " 'Sheraton Waikiki',\n",
       " 'Aqua Oasis',\n",
       " 'Hyatt Centric Waikiki Beach',\n",
       " 'Outrigger Reef Waikiki Beach Resort',\n",
       " 'The Surfjack Hotel & Swim Club',\n",
       " 'Moana Surfrider, A Westin Resort & Spa, Waikiki Beach',\n",
       " 'Embassy Suites by Hilton Waikiki Beach Walk',\n",
       " 'Waikiki Resort Hotel',\n",
       " 'Waikiki Beachcomber by Outrigger',\n",
       " 'Trump International Hotel Waikiki',\n",
       " 'Luana Waikiki Hotel & Suites',\n",
       " 'Royal Grove Hotel',\n",
       " 'The New Otani Kaimana Beach Hotel',\n",
       " 'Ilikai Hotel & Luxury Suites',\n",
       " 'Hilton Garden Inn Waikiki Beach',\n",
       " 'Hotel Renew',\n",
       " 'The Kahala Hotel & Resort',\n",
       " 'Lotus Honolulu at Diamond Head']"
      ]
     },
     "execution_count": 96,
     "metadata": {},
     "output_type": "execute_result"
    }
   ],
   "source": [
    "hotel_names"
   ]
  },
  {
   "cell_type": "code",
   "execution_count": 97,
   "metadata": {},
   "outputs": [
    {
     "data": {
      "text/plain": [
       "[<div class=\"price-wrap \"><div class=\"xwrap\"><div class=\"xthrough autoResize\" data-sizegroup=\"mini-meta-xthrough\"><div>C$311</div></div></div><div class=\"price autoResize\" data-clickpart=\"chevron_price\" data-index=\"0\" data-sizegroup=\"mini-meta-price\">C$227</div></div>,\n",
       " <div class=\"price-wrap \"><div class=\"price autoResize\" data-clickpart=\"chevron_price\" data-index=\"0\" data-sizegroup=\"mini-meta-price\">C$208</div></div>,\n",
       " <div class=\"price-wrap \"><div class=\"price autoResize\" data-clickpart=\"chevron_price\" data-index=\"0\" data-sizegroup=\"mini-meta-price\">C$313</div></div>,\n",
       " <div class=\"price-wrap \"><div class=\"xwrap\"><div class=\"xthrough autoResize\" data-sizegroup=\"mini-meta-xthrough\"><div>C$465</div></div></div><div class=\"price autoResize\" data-clickpart=\"chevron_price\" data-index=\"0\" data-sizegroup=\"mini-meta-price\">C$328</div></div>,\n",
       " <div class=\"price-wrap \"><div class=\"price autoResize\" data-clickpart=\"chevron_price\" data-index=\"0\" data-sizegroup=\"mini-meta-price\">C$250</div></div>,\n",
       " <div class=\"price-wrap \"><div class=\"price autoResize\" data-clickpart=\"chevron_price\" data-index=\"0\" data-sizegroup=\"mini-meta-price\">C$356</div></div>,\n",
       " <div class=\"price-wrap \"><div class=\"xwrap\"><div class=\"xthrough autoResize\" data-sizegroup=\"mini-meta-xthrough\"><div>C$311</div></div></div><div class=\"price autoResize\" data-clickpart=\"chevron_price\" data-index=\"0\" data-sizegroup=\"mini-meta-price\">C$227</div></div>,\n",
       " <div class=\"price-wrap \"><div class=\"xwrap\"><div class=\"xthrough autoResize\" data-sizegroup=\"mini-meta-xthrough\"><div>C$290</div></div></div><div class=\"price autoResize\" data-clickpart=\"chevron_price\" data-index=\"0\" data-sizegroup=\"mini-meta-price\">C$245</div></div>,\n",
       " <div class=\"price-wrap \"><div class=\"price autoResize\" data-clickpart=\"chevron_price\" data-index=\"0\" data-sizegroup=\"mini-meta-price\">C$211</div></div>,\n",
       " <div class=\"price-wrap \"><div class=\"xwrap\"><div class=\"xthrough autoResize\" data-sizegroup=\"mini-meta-xthrough\"><div>C$415</div></div></div><div class=\"price autoResize\" data-clickpart=\"chevron_price\" data-index=\"0\" data-sizegroup=\"mini-meta-price\">C$321</div></div>,\n",
       " <div class=\"price-wrap \"><div class=\"xwrap\"><div class=\"xthrough autoResize\" data-sizegroup=\"mini-meta-xthrough\"><div>C$273</div></div></div><div class=\"price autoResize\" data-clickpart=\"chevron_price\" data-index=\"0\" data-sizegroup=\"mini-meta-price\">C$190</div></div>,\n",
       " <div class=\"price-wrap \"><div class=\"xwrap\"><div class=\"xthrough autoResize\" data-sizegroup=\"mini-meta-xthrough\"><div>C$359</div></div></div><div class=\"price autoResize\" data-clickpart=\"chevron_price\" data-index=\"0\" data-sizegroup=\"mini-meta-price\">C$291</div></div>,\n",
       " <div class=\"price-wrap \"><div class=\"xwrap\"><div class=\"xthrough autoResize\" data-sizegroup=\"mini-meta-xthrough\"><div>C$296</div></div></div><div class=\"price autoResize\" data-clickpart=\"chevron_price\" data-index=\"0\" data-sizegroup=\"mini-meta-price\">C$232</div></div>,\n",
       " <div class=\"price-wrap \"><div class=\"price autoResize\" data-clickpart=\"chevron_price\" data-index=\"0\" data-sizegroup=\"mini-meta-price\">C$213</div></div>,\n",
       " <div class=\"price-wrap \"><div class=\"price autoResize\" data-clickpart=\"chevron_price\" data-index=\"0\" data-sizegroup=\"mini-meta-price\">C$452</div></div>,\n",
       " <div class=\"price-wrap \"><div class=\"price autoResize\" data-clickpart=\"chevron_price\" data-index=\"0\" data-sizegroup=\"mini-meta-price\">C$185</div></div>,\n",
       " <div class=\"price-wrap \"><div class=\"price autoResize\" data-clickpart=\"chevron_price\" data-index=\"0\" data-sizegroup=\"mini-meta-price\">C$264</div></div>,\n",
       " <div class=\"price-wrap \"><div class=\"xwrap\"><div class=\"xthrough autoResize\" data-sizegroup=\"mini-meta-xthrough\"><div>C$352</div></div></div><div class=\"price autoResize\" data-clickpart=\"chevron_price\" data-index=\"0\" data-sizegroup=\"mini-meta-price\">C$264</div></div>,\n",
       " <div class=\"price-wrap \"><div class=\"price autoResize\" data-clickpart=\"chevron_price\" data-index=\"0\" data-sizegroup=\"mini-meta-price\">C$247</div></div>,\n",
       " <div class=\"price-wrap \"><div class=\"xwrap\"><div class=\"xthrough autoResize\" data-sizegroup=\"mini-meta-xthrough\"><div>C$478</div></div></div><div class=\"price autoResize\" data-clickpart=\"chevron_price\" data-index=\"0\" data-sizegroup=\"mini-meta-price\">C$394</div></div>,\n",
       " <div class=\"price-wrap \"><div class=\"xwrap\"><div class=\"xthrough autoResize\" data-sizegroup=\"mini-meta-xthrough\"><div>C$478</div></div></div><div class=\"price autoResize\" data-clickpart=\"chevron_price\" data-index=\"0\" data-sizegroup=\"mini-meta-price\">C$401</div></div>,\n",
       " <div class=\"price-wrap \"><div class=\"price autoResize\" data-clickpart=\"chevron_price\" data-index=\"0\" data-sizegroup=\"mini-meta-price\">C$178</div></div>,\n",
       " <div class=\"price-wrap \"><div class=\"xwrap\"><div class=\"xthrough autoResize\" data-sizegroup=\"mini-meta-xthrough\"><div>C$340</div></div></div><div class=\"price autoResize\" data-clickpart=\"chevron_price\" data-index=\"0\" data-sizegroup=\"mini-meta-price\">C$290</div></div>,\n",
       " <div class=\"price-wrap \"><div class=\"xwrap\"><div class=\"xthrough autoResize\" data-sizegroup=\"mini-meta-xthrough\"><div>C$956</div></div></div><div class=\"price autoResize\" data-clickpart=\"chevron_price\" data-index=\"0\" data-sizegroup=\"mini-meta-price\">C$526</div></div>,\n",
       " <div class=\"price-wrap \"><div class=\"xwrap\"><div class=\"xthrough autoResize\" data-sizegroup=\"mini-meta-xthrough\"><div>C$279</div></div></div><div class=\"price autoResize\" data-clickpart=\"chevron_price\" data-index=\"0\" data-sizegroup=\"mini-meta-price\">C$238</div></div>,\n",
       " <div class=\"price-wrap \"><div class=\"price autoResize\" data-clickpart=\"chevron_price\" data-index=\"0\" data-sizegroup=\"mini-meta-price\">C$131</div></div>,\n",
       " <div class=\"price-wrap \"><div class=\"price autoResize\" data-clickpart=\"chevron_price\" data-index=\"0\" data-sizegroup=\"mini-meta-price\">C$297</div></div>,\n",
       " <div class=\"price-wrap \"><div class=\"xwrap\"><div class=\"xthrough autoResize\" data-sizegroup=\"mini-meta-xthrough\"><div>C$473</div></div></div><div class=\"price autoResize\" data-clickpart=\"chevron_price\" data-index=\"0\" data-sizegroup=\"mini-meta-price\">C$321</div></div>,\n",
       " <div class=\"price-wrap \"><div class=\"xwrap\"><div class=\"xthrough autoResize\" data-sizegroup=\"mini-meta-xthrough\"><div>C$264</div></div></div><div class=\"price autoResize\" data-clickpart=\"chevron_price\" data-index=\"0\" data-sizegroup=\"mini-meta-price\">C$220</div></div>,\n",
       " <div class=\"price-wrap \"><div class=\"xwrap\"><div class=\"xthrough autoResize\" data-sizegroup=\"mini-meta-xthrough\"><div>C$217</div></div></div><div class=\"price autoResize\" data-clickpart=\"chevron_price\" data-index=\"0\" data-sizegroup=\"mini-meta-price\">C$211</div></div>,\n",
       " <div class=\"price-wrap \"><div class=\"price autoResize\" data-clickpart=\"chevron_price\" data-index=\"0\" data-sizegroup=\"mini-meta-price\">C$663</div></div>,\n",
       " <div class=\"price-wrap \"><div class=\"price autoResize\" data-clickpart=\"chevron_price\" data-index=\"0\" data-sizegroup=\"mini-meta-price\"><span class=\"ui_loader small\"><span></span><span></span><span></span><span></span><span></span></span></div></div>]"
      ]
     },
     "execution_count": 97,
     "metadata": {},
     "output_type": "execute_result"
    }
   ],
   "source": [
    "# hotel prices\n",
    "prices_results = soup.find_all(\"div\", class_=\"price-wrap\")\n",
    "prices_results"
   ]
  },
  {
   "cell_type": "code",
   "execution_count": 98,
   "metadata": {},
   "outputs": [
    {
     "name": "stdout",
     "output_type": "stream",
     "text": [
      "-------------\n",
      "C$227\n",
      "-------------\n",
      "C$208\n",
      "-------------\n",
      "C$313\n",
      "-------------\n",
      "C$328\n",
      "-------------\n",
      "C$250\n",
      "-------------\n",
      "C$356\n",
      "-------------\n",
      "C$227\n",
      "-------------\n",
      "C$245\n",
      "-------------\n",
      "C$211\n",
      "-------------\n",
      "C$321\n",
      "-------------\n",
      "C$190\n",
      "-------------\n",
      "C$291\n",
      "-------------\n",
      "C$232\n",
      "-------------\n",
      "C$213\n",
      "-------------\n",
      "C$452\n",
      "-------------\n",
      "C$185\n",
      "-------------\n",
      "C$264\n",
      "-------------\n",
      "C$264\n",
      "-------------\n",
      "C$247\n",
      "-------------\n",
      "C$394\n",
      "-------------\n",
      "C$401\n",
      "-------------\n",
      "C$178\n",
      "-------------\n",
      "C$290\n",
      "-------------\n",
      "C$526\n",
      "-------------\n",
      "C$238\n",
      "-------------\n",
      "C$131\n",
      "-------------\n",
      "C$297\n",
      "-------------\n",
      "C$321\n",
      "-------------\n",
      "C$220\n",
      "-------------\n",
      "C$211\n",
      "-------------\n",
      "C$663\n"
     ]
    }
   ],
   "source": [
    "# loop through returned results\n",
    "hotel_prices = []\n",
    "for result in prices_results:\n",
    "    # Error handling\n",
    "    try:\n",
    "        # Identify and return name of hotel\n",
    "        price = result.find('div', class_=\"price autoResize\").text\n",
    "        \n",
    "        # Print results only if title, price, and link are available\n",
    "        if (price):\n",
    "            print('-------------')\n",
    "            print(price)\n",
    "            hotel_prices.append(price)\n",
    "    except AttributeError as e:\n",
    "        print(e)"
   ]
  },
  {
   "cell_type": "code",
   "execution_count": 87,
   "metadata": {},
   "outputs": [
    {
     "data": {
      "text/plain": [
       "30"
      ]
     },
     "execution_count": 87,
     "metadata": {},
     "output_type": "execute_result"
    }
   ],
   "source": []
  },
  {
   "cell_type": "code",
   "execution_count": 88,
   "metadata": {},
   "outputs": [
    {
     "data": {
      "text/plain": [
       "30"
      ]
     },
     "execution_count": 88,
     "metadata": {},
     "output_type": "execute_result"
    }
   ],
   "source": []
  },
  {
   "cell_type": "code",
   "execution_count": null,
   "metadata": {},
   "outputs": [],
   "source": []
  }
 ],
 "metadata": {
  "kernelspec": {
   "display_name": "Python 3",
   "language": "python",
   "name": "python3"
  },
  "language_info": {
   "codemirror_mode": {
    "name": "ipython",
    "version": 3
   },
   "file_extension": ".py",
   "mimetype": "text/x-python",
   "name": "python",
   "nbconvert_exporter": "python",
   "pygments_lexer": "ipython3",
   "version": "3.7.0"
  }
 },
 "nbformat": 4,
 "nbformat_minor": 2
}
