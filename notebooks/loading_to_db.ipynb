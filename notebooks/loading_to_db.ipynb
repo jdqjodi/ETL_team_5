{
 "cells": [
  {
   "cell_type": "code",
   "execution_count": 4,
   "metadata": {},
   "outputs": [],
   "source": [
    "# merging csvs\n",
    "import pandas as pd\n",
    "import os\n",
    "import pymysql\n",
    "from pandas import DataFrame\n",
    "from pandas.io import sql\n",
    "from sqlalchemy import create_engine\n",
    "from sqlalchemy.ext.declarative import declarative_base\n",
    "from sqlalchemy import Column, Integer, String, Float "
   ]
  },
  {
   "cell_type": "code",
   "execution_count": 5,
   "metadata": {},
   "outputs": [],
   "source": [
    "hotel = pd.read_csv(\"../csvs/hotel_info\") \n",
    "rental = pd.read_csv(\"../csvs/rental_rooms\") \n",
    "restaurants = pd.read_csv(\"../csvs/restaurant_ratings\")"
   ]
  },
  {
   "cell_type": "code",
   "execution_count": 6,
   "metadata": {},
   "outputs": [],
   "source": [
    "engine = create_engine('sqlite://', echo=False)"
   ]
  },
  {
   "cell_type": "code",
   "execution_count": 7,
   "metadata": {},
   "outputs": [],
   "source": [
    "# cleaning up data\n",
    "hotel = hotel[['hotel_names', 'hotel_prices']].copy()\n",
    "rental = rental[['Rental Room', 'Rental Price']].copy()\n",
    "restaurants = restaurants[['Restaurant','Ratings']].copy()"
   ]
  },
  {
   "cell_type": "code",
   "execution_count": 8,
   "metadata": {},
   "outputs": [],
   "source": [
    "# database in memory"
   ]
  },
  {
   "cell_type": "code",
   "execution_count": 9,
   "metadata": {},
   "outputs": [],
   "source": [
    "hotel.to_sql('hotels', con=engine)\n",
    "rental.to_sql('rentals', con=engine)\n",
    "restaurants.to_sql('restaurants', con=engine)"
   ]
  },
  {
   "cell_type": "code",
   "execution_count": 16,
   "metadata": {},
   "outputs": [
    {
     "name": "stdout",
     "output_type": "stream",
     "text": [
      "     0                                                  1      2\n",
      "0    0                        Holiday Inn Express Waikiki  C$227\n",
      "1    1                                     Hotel La Croix  C$198\n",
      "2    2                                The Modern Honolulu  C$313\n",
      "3    3                     Outrigger Waikiki Beach Resort  C$328\n",
      "4    4                                 Vive Hotel Waikiki  C$250\n",
      "5    5                               Hilton Waikiki Beach  C$245\n",
      "6    6                        Holiday Inn Express Waikiki  C$227\n",
      "7    7                            Shoreline Hotel Waikiki  C$211\n",
      "8    8           Hyatt Regency Waikiki Beach Resort & Spa  C$290\n",
      "9    9                    ‘Alohilani Resort Waikiki Beach  C$322\n",
      "10  10                                 Park Shore Waikiki  C$190\n",
      "11  11                          Hyatt Place Waikiki Beach  C$232\n",
      "12  12                              Coconut Waikiki Hotel  C$213\n",
      "13  13                                         Aqua Oasis  C$185\n",
      "14  14                        Hyatt Centric Waikiki Beach  C$264\n",
      "15  15                Outrigger Reef Waikiki Beach Resort  C$264\n",
      "16  16  Moana Surfrider, A Westin Resort & Spa, Waikik...  C$393\n",
      "17  17                     The Surfjack Hotel & Swim Club  C$247\n",
      "18  18        Embassy Suites by Hilton Waikiki Beach Walk  C$401\n",
      "19  19                               Waikiki Resort Hotel  C$178\n",
      "20  20                   Waikiki Beachcomber by Outrigger  C$290\n",
      "21  21                                  Royal Grove Hotel  C$131\n",
      "22  22                       Luana Waikiki Hotel & Suites  C$237\n",
      "23  23                       Ilikai Hotel & Luxury Suites  C$321\n",
      "24  24                  The New Otani Kaimana Beach Hotel  C$297\n",
      "25  25                    Hilton Garden Inn Waikiki Beach  C$231\n",
      "26  26                     Lotus Honolulu at Diamond Head  C$207\n",
      "27  27                                   Sheraton Waikiki  C$573\n",
      "28  28                          The Kahala Hotel & Resort  C$664\n",
      "29  29                  Trump International Hotel Waikiki  C$528\n",
      "30  30         The Ritz-Carlton Residences, Waikiki Beach  C$597\n",
      "     0                                                  1     2\n",
      "0    0  Hawaiian Monarch -Studio with Canal View/Parti...   $85\n",
      "1    1  Fresh Renovated Inn on the Park Studio near Be...   $75\n",
      "2    2                 1009 KING BED Modern/Waikiki Beach   $90\n",
      "3    3  Fully Renovated Condo by Ocean with Full Kitch...   $85\n",
      "4    4  Spacious 1BR with 180-Degree Ocean Views! Prim...  $120\n",
      "5    5        ((( Ocean Views! ))) Newly Upgraded Studio!   $90\n",
      "6    6  Waikiki Grand - Diamond Head & Ocean Views, Ki...  $118\n",
      "7    7  Fairway Villa 804 / Studio - Free Wifi, TV & P...  $135\n",
      "8    8  Grand Opening Discount - Renovated Studio - Aw...  $125\n",
      "9    9  Easy Access to Amazing Beaches in this Beautif...   $99\n",
      "10  10            Brand New Waikiki Diamond Head Favorite   $94\n",
      "11  11  Wyndham Royal Garden Waikiki - Free WIFI In Ro...  $110\n",
      "12  12  New Listing! Modern Condo on the 29th Floor in...   $99\n",
      "13  13        Charming Beachfront Studio at Waikiki Shore  $180\n",
      "14  14                      Paradise Dream in Hawaii 天堂之夢  $108\n",
      "15  15  Ocean View Penthouse Studio By The Beach With ...   $82\n",
      "16  16  Diamond Head Beach - Queen Studio with Balcony...  $135\n",
      "17  17  BEST VALUE downtown Honolulu Executive Centre ...  $160\n",
      "18  18  Waikiki Hotel Studio @ Hawaiian Monarch Hotel ...   $75\n",
      "19  19  Cozy Downtown Honolulu Apt w/ Pool Access by HPU!   $96\n",
      "     0                                                1                2\n",
      "0    0                                  Hicraft Kitchen    4 star rating\n",
      "1    1                                   Duke’s Waikiki  4.5 star rating\n",
      "2    2                                    Marukame Udon  4.5 star rating\n",
      "3    3                                      Ono Seafood  4.5 star rating\n",
      "4    4                           Helena’s Hawaiian Food    4 star rating\n",
      "5    5                                Tikis Grill & Bar    4 star rating\n",
      "6    6                               Hula Grill Waikiki  4.5 star rating\n",
      "7    7                                  The Surfing Pig  4.5 star rating\n",
      "8    8                            Tonkatsu Ginza Bairin    4 star rating\n",
      "9    9                               The Pig & The Lady  4.5 star rating\n",
      "10  10                                    Roy’s Waikiki    4 star rating\n",
      "11  11                                   Nico’s Pier 38  4.5 star rating\n",
      "12  12                                Tonkatsu Tamafuji    4 star rating\n",
      "13  13                             Kona Brewing Company  4.5 star rating\n",
      "14  14                                      Steak Shack    4 star rating\n",
      "15  15                                        Cafe Asia  4.5 star rating\n",
      "16  16                                      Lucky Belly  4.5 star rating\n",
      "17  17                              Musubi Cafe Iyasume  4.5 star rating\n",
      "18  18                                 Roy’s Hawaii Kai  4.5 star rating\n",
      "19  19                         Paia Fish Market Waikiki    4 star rating\n",
      "20  20                                    Haleiwa Joe’s    4 star rating\n",
      "21  21                                  Side Street Inn    4 star rating\n",
      "22  22                                     Moku Kitchen  4.5 star rating\n",
      "23  23  Tommy Bahama Restaurant | Bar | Store - Waikiki  4.5 star rating\n",
      "24  24                   Off The Wall Craft Beer & Wine    4 star rating\n",
      "25  25                      Uncle Bo’s Pupu Bar & Grill  4.5 star rating\n",
      "26  26                                 Home Bar & Grill    4 star rating\n",
      "27  27                                      Aloha Table    4 star rating\n",
      "28  28                   Raising Cane’s Chicken Fingers    4 star rating\n",
      "29  29                                     Piggy Smalls  4.5 star rating\n"
     ]
    }
   ],
   "source": [
    "a = engine.execute(\"SELECT * FROM hotels\").fetchall()\n",
    "b = pd.DataFrame(a)\n",
    "c = engine.execute(\"SELECT * FROM rentals\").fetchall()\n",
    "e = pd.DataFrame(c)\n",
    "d = engine.execute(\"SELECT * FROM restaurants\").fetchall()\n",
    "f = pd.DataFrame(d)\n",
    "print(b)\n",
    "print(e)\n",
    "print(f)"
   ]
  },
  {
   "cell_type": "code",
   "execution_count": 19,
   "metadata": {},
   "outputs": [],
   "source": [
    "result = pd.concat([b, e, f])"
   ]
  },
  {
   "cell_type": "code",
   "execution_count": 20,
   "metadata": {},
   "outputs": [
    {
     "name": "stdout",
     "output_type": "stream",
     "text": [
      "     0                                                  1                2\n",
      "0    0                        Holiday Inn Express Waikiki            C$227\n",
      "1    1                                     Hotel La Croix            C$198\n",
      "2    2                                The Modern Honolulu            C$313\n",
      "3    3                     Outrigger Waikiki Beach Resort            C$328\n",
      "4    4                                 Vive Hotel Waikiki            C$250\n",
      "5    5                               Hilton Waikiki Beach            C$245\n",
      "6    6                        Holiday Inn Express Waikiki            C$227\n",
      "7    7                            Shoreline Hotel Waikiki            C$211\n",
      "8    8           Hyatt Regency Waikiki Beach Resort & Spa            C$290\n",
      "9    9                    ‘Alohilani Resort Waikiki Beach            C$322\n",
      "10  10                                 Park Shore Waikiki            C$190\n",
      "11  11                          Hyatt Place Waikiki Beach            C$232\n",
      "12  12                              Coconut Waikiki Hotel            C$213\n",
      "13  13                                         Aqua Oasis            C$185\n",
      "14  14                        Hyatt Centric Waikiki Beach            C$264\n",
      "15  15                Outrigger Reef Waikiki Beach Resort            C$264\n",
      "16  16  Moana Surfrider, A Westin Resort & Spa, Waikik...            C$393\n",
      "17  17                     The Surfjack Hotel & Swim Club            C$247\n",
      "18  18        Embassy Suites by Hilton Waikiki Beach Walk            C$401\n",
      "19  19                               Waikiki Resort Hotel            C$178\n",
      "20  20                   Waikiki Beachcomber by Outrigger            C$290\n",
      "21  21                                  Royal Grove Hotel            C$131\n",
      "22  22                       Luana Waikiki Hotel & Suites            C$237\n",
      "23  23                       Ilikai Hotel & Luxury Suites            C$321\n",
      "24  24                  The New Otani Kaimana Beach Hotel            C$297\n",
      "25  25                    Hilton Garden Inn Waikiki Beach            C$231\n",
      "26  26                     Lotus Honolulu at Diamond Head            C$207\n",
      "27  27                                   Sheraton Waikiki            C$573\n",
      "28  28                          The Kahala Hotel & Resort            C$664\n",
      "29  29                  Trump International Hotel Waikiki            C$528\n",
      "..  ..                                                ...              ...\n",
      "0    0                                    Hicraft Kitchen    4 star rating\n",
      "1    1                                     Duke’s Waikiki  4.5 star rating\n",
      "2    2                                      Marukame Udon  4.5 star rating\n",
      "3    3                                        Ono Seafood  4.5 star rating\n",
      "4    4                             Helena’s Hawaiian Food    4 star rating\n",
      "5    5                                  Tikis Grill & Bar    4 star rating\n",
      "6    6                                 Hula Grill Waikiki  4.5 star rating\n",
      "7    7                                    The Surfing Pig  4.5 star rating\n",
      "8    8                              Tonkatsu Ginza Bairin    4 star rating\n",
      "9    9                                 The Pig & The Lady  4.5 star rating\n",
      "10  10                                      Roy’s Waikiki    4 star rating\n",
      "11  11                                     Nico’s Pier 38  4.5 star rating\n",
      "12  12                                  Tonkatsu Tamafuji    4 star rating\n",
      "13  13                               Kona Brewing Company  4.5 star rating\n",
      "14  14                                        Steak Shack    4 star rating\n",
      "15  15                                          Cafe Asia  4.5 star rating\n",
      "16  16                                        Lucky Belly  4.5 star rating\n",
      "17  17                                Musubi Cafe Iyasume  4.5 star rating\n",
      "18  18                                   Roy’s Hawaii Kai  4.5 star rating\n",
      "19  19                           Paia Fish Market Waikiki    4 star rating\n",
      "20  20                                      Haleiwa Joe’s    4 star rating\n",
      "21  21                                    Side Street Inn    4 star rating\n",
      "22  22                                       Moku Kitchen  4.5 star rating\n",
      "23  23    Tommy Bahama Restaurant | Bar | Store - Waikiki  4.5 star rating\n",
      "24  24                     Off The Wall Craft Beer & Wine    4 star rating\n",
      "25  25                        Uncle Bo’s Pupu Bar & Grill  4.5 star rating\n",
      "26  26                                   Home Bar & Grill    4 star rating\n",
      "27  27                                        Aloha Table    4 star rating\n",
      "28  28                     Raising Cane’s Chicken Fingers    4 star rating\n",
      "29  29                                       Piggy Smalls  4.5 star rating\n",
      "\n",
      "[81 rows x 3 columns]\n"
     ]
    }
   ],
   "source": [
    "print(result)"
   ]
  },
  {
   "cell_type": "code",
   "execution_count": null,
   "metadata": {},
   "outputs": [],
   "source": []
  }
 ],
 "metadata": {
  "kernelspec": {
   "display_name": "Python 3",
   "language": "python",
   "name": "python3"
  },
  "language_info": {
   "codemirror_mode": {
    "name": "ipython",
    "version": 3
   },
   "file_extension": ".py",
   "mimetype": "text/x-python",
   "name": "python",
   "nbconvert_exporter": "python",
   "pygments_lexer": "ipython3",
   "version": "3.7.0"
  }
 },
 "nbformat": 4,
 "nbformat_minor": 2
}
