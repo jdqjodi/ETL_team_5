{
 "cells": [
  {
   "cell_type": "code",
   "execution_count": 4,
   "metadata": {},
   "outputs": [],
   "source": [
    "# merging csvs\n",
    "import pandas as pd\n",
    "import os\n",
    "import pymysql\n",
    "from pandas import DataFrame\n",
    "from pandas.io import sql\n",
    "from sqlalchemy import create_engine\n",
    "from sqlalchemy.ext.declarative import declarative_base\n",
    "from sqlalchemy import Column, Integer, String, Float "
   ]
  },
  {
   "cell_type": "code",
   "execution_count": 5,
   "metadata": {},
   "outputs": [],
   "source": [
    "hotel = pd.read_csv(\"../csvs/hotel_info\") \n",
    "rental = pd.read_csv(\"../csvs/rental_rooms\") \n",
    "restaurants = pd.read_csv(\"../csvs/restaurant_ratings\")"
   ]
  },
  {
   "cell_type": "code",
   "execution_count": 6,
   "metadata": {},
   "outputs": [],
   "source": [
    "engine = create_engine('sqlite://', echo=False)"
   ]
  },
  {
   "cell_type": "code",
   "execution_count": 7,
   "metadata": {},
   "outputs": [],
   "source": [
    "# cleaning up data\n",
    "hotel = hotel[['hotel_names', 'hotel_prices']].copy()\n",
    "rental = rental[['Rental Room', 'Rental Price']].copy()\n",
    "restaurants = restaurants[['Restaurant','Ratings']].copy()"
   ]
  },
  {
   "cell_type": "code",
   "execution_count": 8,
   "metadata": {},
   "outputs": [],
   "source": [
    "# database in memory"
   ]
  },
  {
   "cell_type": "code",
   "execution_count": 9,
   "metadata": {},
   "outputs": [],
   "source": [
    "hotel.to_sql('hotels', con=engine)\n",
    "rental.to_sql('rentals', con=engine)\n",
    "restaurants.to_sql('restaurants', con=engine)"
   ]
  },
  {
   "cell_type": "code",
   "execution_count": 10,
   "metadata": {},
   "outputs": [
    {
     "data": {
      "text/plain": [
       "[(0, 'Holiday Inn Express Waikiki', 'C$227'),\n",
       " (1, 'Hotel La Croix', 'C$198'),\n",
       " (2, 'The Modern Honolulu', 'C$313'),\n",
       " (3, 'Outrigger Waikiki Beach Resort', 'C$328'),\n",
       " (4, 'Vive Hotel Waikiki', 'C$250'),\n",
       " (5, 'Hilton Waikiki Beach', 'C$245'),\n",
       " (6, 'Holiday Inn Express Waikiki', 'C$227'),\n",
       " (7, 'Shoreline Hotel Waikiki', 'C$211'),\n",
       " (8, 'Hyatt Regency Waikiki Beach Resort & Spa', 'C$290'),\n",
       " (9, '‘Alohilani Resort Waikiki Beach', 'C$322'),\n",
       " (10, 'Park Shore Waikiki', 'C$190'),\n",
       " (11, 'Hyatt Place Waikiki Beach', 'C$232'),\n",
       " (12, 'Coconut Waikiki Hotel', 'C$213'),\n",
       " (13, 'Aqua Oasis', 'C$185'),\n",
       " (14, 'Hyatt Centric Waikiki Beach', 'C$264'),\n",
       " (15, 'Outrigger Reef Waikiki Beach Resort', 'C$264'),\n",
       " (16, 'Moana Surfrider, A Westin Resort & Spa, Waikiki Beach', 'C$393'),\n",
       " (17, 'The Surfjack Hotel & Swim Club', 'C$247'),\n",
       " (18, 'Embassy Suites by Hilton Waikiki Beach Walk', 'C$401'),\n",
       " (19, 'Waikiki Resort Hotel', 'C$178'),\n",
       " (20, 'Waikiki Beachcomber by Outrigger', 'C$290'),\n",
       " (21, 'Royal Grove Hotel', 'C$131'),\n",
       " (22, 'Luana Waikiki Hotel & Suites', 'C$237'),\n",
       " (23, 'Ilikai Hotel & Luxury Suites', 'C$321'),\n",
       " (24, 'The New Otani Kaimana Beach Hotel', 'C$297'),\n",
       " (25, 'Hilton Garden Inn Waikiki Beach', 'C$231'),\n",
       " (26, 'Lotus Honolulu at Diamond Head', 'C$207'),\n",
       " (27, 'Sheraton Waikiki', 'C$573'),\n",
       " (28, 'The Kahala Hotel & Resort', 'C$664'),\n",
       " (29, 'Trump International Hotel Waikiki', 'C$528'),\n",
       " (30, 'The Ritz-Carlton Residences, Waikiki Beach', 'C$597')]"
      ]
     },
     "execution_count": 10,
     "metadata": {},
     "output_type": "execute_result"
    }
   ],
   "source": [
    "engine.execute(\"SELECT * FROM hotels\").fetchall()"
   ]
  },
  {
   "cell_type": "code",
   "execution_count": 11,
   "metadata": {},
   "outputs": [
    {
     "ename": "ModuleNotFoundError",
     "evalue": "No module named 'mysql'",
     "output_type": "error",
     "traceback": [
      "\u001b[1;31m---------------------------------------------------------------------------\u001b[0m",
      "\u001b[1;31mModuleNotFoundError\u001b[0m                       Traceback (most recent call last)",
      "\u001b[1;32m<ipython-input-11-27e1a4180e61>\u001b[0m in \u001b[0;36m<module>\u001b[1;34m()\u001b[0m\n\u001b[1;32m----> 1\u001b[1;33m \u001b[1;32mimport\u001b[0m \u001b[0mmysql\u001b[0m\u001b[1;33m.\u001b[0m\u001b[0mconnector\u001b[0m\u001b[1;33m\u001b[0m\u001b[0m\n\u001b[0m\u001b[0;32m      2\u001b[0m \u001b[1;33m\u001b[0m\u001b[0m\n\u001b[0;32m      3\u001b[0m \u001b[1;31m# Setup MySQL connection\u001b[0m\u001b[1;33m\u001b[0m\u001b[1;33m\u001b[0m\u001b[0m\n\u001b[0;32m      4\u001b[0m db = mysql.connector.connect(\n\u001b[0;32m      5\u001b[0m     \u001b[0mhost\u001b[0m\u001b[1;33m=\u001b[0m\u001b[1;34m\"<IP>\"\u001b[0m\u001b[1;33m,\u001b[0m              \u001b[1;31m# your host, usually localhost\u001b[0m\u001b[1;33m\u001b[0m\u001b[0m\n",
      "\u001b[1;31mModuleNotFoundError\u001b[0m: No module named 'mysql'"
     ]
    }
   ],
   "source": [
    "import mysql.connector\n",
    "\n",
    "# Setup MySQL connection\n",
    "db = mysql.connector.connect(\n",
    "    host=\"<IP>\",              # your host, usually localhost\n",
    "    user=\"<USER>\",            # your username\n",
    "    password=\"<PASS>\",        # your password\n",
    "    database=\"<DATABASE>\"     # name of the data base\n",
    ")   \n",
    "\n",
    "# You must create a Cursor object. It will let you execute all the queries you need\n",
    "cur = db.cursor()\n",
    "\n",
    "# Use all the SQL you like\n",
    "cur.execute(\"SELECT * FROM <TABLE>\")\n",
    "\n",
    "# Put it all to a data frame\n",
    "sql_data = pd.DataFrame(cur.fetchall())\n",
    "sql_data.columns = cur.column_names\n",
    "\n",
    "# Close the session\n",
    "db.close()\n",
    "\n",
    "# Show the data\n",
    "print(sql_data.head())"
   ]
  },
  {
   "cell_type": "code",
   "execution_count": null,
   "metadata": {},
   "outputs": [],
   "source": []
  }
 ],
 "metadata": {
  "kernelspec": {
   "display_name": "Python 3",
   "language": "python",
   "name": "python3"
  },
  "language_info": {
   "codemirror_mode": {
    "name": "ipython",
    "version": 3
   },
   "file_extension": ".py",
   "mimetype": "text/x-python",
   "name": "python",
   "nbconvert_exporter": "python",
   "pygments_lexer": "ipython3",
   "version": "3.7.0"
  }
 },
 "nbformat": 4,
 "nbformat_minor": 2
}
