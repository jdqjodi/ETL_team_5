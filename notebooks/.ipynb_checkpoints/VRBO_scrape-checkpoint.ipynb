{
 "cells": [
  {
   "cell_type": "code",
   "execution_count": 2,
   "metadata": {},
   "outputs": [],
   "source": [
    "# Dependencies\n",
    "import os\n",
    "import requests\n",
    "import ssl\n",
    "import pandas as pd\n",
    "from bs4 import BeautifulSoup as bs\n",
    "import urllib.request, urllib.parse, urllib.error\n",
    "#import warnings if not sys.warnoptions:\n",
    "    #warnings.simplefilter(\"ignore\")#For ignoring SSL certificate errors\n",
    "ctx = ssl.create_default_context()\n",
    "ctx.check_hostname = False\n",
    "ctx.verify_mode = ssl.CERT_NONE# url = input('Enter url - ' )"
   ]
  },
  {
   "cell_type": "code",
   "execution_count": 4,
   "metadata": {},
   "outputs": [],
   "source": [
    "# URL of page to be scraped\n",
    "# check in 04-01-2019 check out 04-30-2019\n",
    "url = 'https://www.vrbo.com/results?adultsCount=1&petIncluded=false&q=Honolulu%2C%20HI%2C%20USA&from-date=2019-04-01&to-date=2019-04-06'"
   ]
  },
  {
   "cell_type": "code",
   "execution_count": 5,
   "metadata": {},
   "outputs": [],
   "source": [
    "html = urllib.request.urlopen(url, context=ctx).read()"
   ]
  },
  {
   "cell_type": "code",
   "execution_count": 6,
   "metadata": {},
   "outputs": [],
   "source": [
    "soup = bs(html, 'html.parser')"
   ]
  },
  {
   "cell_type": "code",
   "execution_count": 7,
   "metadata": {},
   "outputs": [],
   "source": [
    "# Examine the results, then determine element that contains sought info\n",
    "html = soup.prettify(\"utf-8\")"
   ]
  },
  {
   "cell_type": "code",
   "execution_count": 8,
   "metadata": {},
   "outputs": [
    {
     "data": {
      "text/plain": [
       "[<h4 class=\"HitInfo__headline hover-text hidden-xs\" href=\"/738346\">Hawaiian Monarch -Studio with Canal View/Partial Ocean View/Wifi</h4>,\n",
       " <h4 class=\"HitInfo__headline hover-text hidden-xs\" href=\"/875569\">Fresh Renovated Inn on the Park Studio near Beach with Park &amp; Ocean Views!</h4>,\n",
       " <h4 class=\"HitInfo__headline hover-text hidden-xs\" href=\"/4476630ha\">1009 KING BED Modern/Waikiki Beach</h4>,\n",
       " <h4 class=\"HitInfo__headline hover-text hidden-xs\" href=\"/748231\">Fully Renovated Condo by Ocean with Full Kitchen in Boutique Style Building</h4>,\n",
       " <h4 class=\"HitInfo__headline hover-text hidden-xs\" href=\"/895883\">Spacious 1BR with 180-Degree Ocean Views! Prime Waikiki Location!</h4>,\n",
       " <h4 class=\"HitInfo__headline hover-text hidden-xs\" href=\"/737390\">((( Ocean Views! ))) Newly Upgraded Studio!</h4>,\n",
       " <h4 class=\"HitInfo__headline hover-text hidden-xs\" href=\"/1058467\">Waikiki Grand - Diamond Head &amp; Ocean Views, Kitchenette &amp; Lanai Free WiFi</h4>,\n",
       " <h4 class=\"HitInfo__headline hover-text hidden-xs\" href=\"/1333863\">Fairway Villa 804 / Studio - Free Wifi, TV &amp; Parking</h4>,\n",
       " <h4 class=\"HitInfo__headline hover-text hidden-xs\" href=\"/808936\">Grand Opening Discount - Renovated Studio - Awesome Unobstructed Ocean Views</h4>,\n",
       " <h4 class=\"HitInfo__headline hover-text hidden-xs\" href=\"/748317\">Easy Access to Amazing Beaches in this Beautiful Condo by the Sea</h4>,\n",
       " <h4 class=\"HitInfo__headline hover-text hidden-xs\" href=\"/4850820ha\">Brand New Waikiki Diamond Head Favorite</h4>,\n",
       " <h4 class=\"HitInfo__headline hover-text hidden-xs\" href=\"/83193\">Wyndham Royal Garden Waikiki - Free WIFI In Room - Beautiful Views</h4>,\n",
       " <h4 class=\"HitInfo__headline hover-text hidden-xs\" href=\"/1192887\">New Listing! Modern Condo on the 29th Floor in Waikiki with Incredible Views</h4>,\n",
       " <h4 class=\"HitInfo__headline hover-text hidden-xs\" href=\"/1325981\">Charming Beachfront Studio at Waikiki Shore</h4>,\n",
       " <h4 class=\"HitInfo__headline hover-text hidden-xs\" href=\"/1062922\">Paradise Dream in Hawaii 天堂之夢</h4>,\n",
       " <h4 class=\"HitInfo__headline hover-text hidden-xs\" href=\"/474694\">Ocean View Penthouse Studio By The Beach With Huge Lanai And Great Amenities</h4>,\n",
       " <h4 class=\"HitInfo__headline hover-text hidden-xs\" href=\"/1239830\">Diamond Head Beach - Queen Studio with Balcony - Ocean View</h4>,\n",
       " <h4 class=\"HitInfo__headline hover-text hidden-xs\" href=\"/111945\">BEST VALUE downtown Honolulu Executive Centre ocean view parking included</h4>,\n",
       " <h4 class=\"HitInfo__headline hover-text hidden-xs\" href=\"/1187502\">Waikiki Hotel Studio @ Hawaiian Monarch Hotel Building</h4>,\n",
       " <h4 class=\"HitInfo__headline hover-text hidden-xs\" href=\"/4869503ha\">Cozy Downtown Honolulu Apt w/ Pool Access by HPU!</h4>,\n",
       " <h4>Recent Honolulu Reviews</h4>]"
      ]
     },
     "execution_count": 8,
     "metadata": {},
     "output_type": "execute_result"
    }
   ],
   "source": [
    "# hotel names\n",
    "name_results = soup.find_all(\"h4\")\n",
    "name_results"
   ]
  },
  {
   "cell_type": "code",
   "execution_count": 9,
   "metadata": {},
   "outputs": [
    {
     "name": "stdout",
     "output_type": "stream",
     "text": [
      "-------------\n",
      "Hawaiian Monarch -Studio with Canal View/Partial Ocean View/Wifi\n",
      "-------------\n",
      "Fresh Renovated Inn on the Park Studio near Beach with Park & Ocean Views!\n",
      "-------------\n",
      "1009 KING BED Modern/Waikiki Beach\n",
      "-------------\n",
      "Fully Renovated Condo by Ocean with Full Kitchen in Boutique Style Building\n",
      "-------------\n",
      "Spacious 1BR with 180-Degree Ocean Views! Prime Waikiki Location!\n",
      "-------------\n",
      "((( Ocean Views! ))) Newly Upgraded Studio!\n",
      "-------------\n",
      "Waikiki Grand - Diamond Head & Ocean Views, Kitchenette & Lanai Free WiFi\n",
      "-------------\n",
      "Fairway Villa 804 / Studio - Free Wifi, TV & Parking\n",
      "-------------\n",
      "Grand Opening Discount - Renovated Studio - Awesome Unobstructed Ocean Views\n",
      "-------------\n",
      "Easy Access to Amazing Beaches in this Beautiful Condo by the Sea\n",
      "-------------\n",
      "Brand New Waikiki Diamond Head Favorite\n",
      "-------------\n",
      "Wyndham Royal Garden Waikiki - Free WIFI In Room - Beautiful Views\n",
      "-------------\n",
      "New Listing! Modern Condo on the 29th Floor in Waikiki with Incredible Views\n",
      "-------------\n",
      "Charming Beachfront Studio at Waikiki Shore\n",
      "-------------\n",
      "Paradise Dream in Hawaii 天堂之夢\n",
      "-------------\n",
      "Ocean View Penthouse Studio By The Beach With Huge Lanai And Great Amenities\n",
      "-------------\n",
      "Diamond Head Beach - Queen Studio with Balcony - Ocean View\n",
      "-------------\n",
      "BEST VALUE downtown Honolulu Executive Centre ocean view parking included\n",
      "-------------\n",
      "Waikiki Hotel Studio @ Hawaiian Monarch Hotel Building\n",
      "-------------\n",
      "Cozy Downtown Honolulu Apt w/ Pool Access by HPU!\n",
      "-------------\n",
      "Recent Honolulu Reviews\n"
     ]
    }
   ],
   "source": [
    "# loop through returned results\n",
    "rental_names = []\n",
    "for result in name_results:\n",
    "    # Error handling\n",
    "    try:\n",
    "        # Identify and return name of hotel\n",
    "        name = result.text\n",
    "        \n",
    "        # Print results only if title, price, and link are available\n",
    "        if (name):\n",
    "            print('-------------')\n",
    "            print(name)\n",
    "            rental_names.append(name)\n",
    "    except AttributeError as e:\n",
    "        print(e)"
   ]
  },
  {
   "cell_type": "code",
   "execution_count": 10,
   "metadata": {},
   "outputs": [
    {
     "data": {
      "text/plain": [
       "[<span class=\"PriceSummary__amount\">$85</span>,\n",
       " <span class=\"PriceSummary__amount\">$75</span>,\n",
       " <span class=\"PriceSummary__amount\">$90</span>,\n",
       " <span class=\"PriceSummary__amount\">$85</span>,\n",
       " <span class=\"PriceSummary__amount\">$120</span>,\n",
       " <span class=\"PriceSummary__amount\">$90</span>,\n",
       " <span class=\"PriceSummary__amount\">$118</span>,\n",
       " <span class=\"PriceSummary__amount\">$135</span>,\n",
       " <span class=\"PriceSummary__amount\">$125</span>,\n",
       " <span class=\"PriceSummary__amount\">$99</span>,\n",
       " <span class=\"PriceSummary__amount\">$94</span>,\n",
       " <span class=\"PriceSummary__amount\">$110</span>,\n",
       " <span class=\"PriceSummary__amount\">$99</span>,\n",
       " <span class=\"PriceSummary__amount\">$180</span>,\n",
       " <span class=\"PriceSummary__amount\">$108</span>,\n",
       " <span class=\"PriceSummary__amount\">$82</span>,\n",
       " <span class=\"PriceSummary__amount\">$135</span>,\n",
       " <span class=\"PriceSummary__amount\">$160</span>,\n",
       " <span class=\"PriceSummary__amount\">$75</span>,\n",
       " <span class=\"PriceSummary__amount\">$96</span>]"
      ]
     },
     "execution_count": 10,
     "metadata": {},
     "output_type": "execute_result"
    }
   ],
   "source": [
    "# hotel prices\n",
    "prices_results = soup.find_all(\"span\", class_=\"PriceSummary__amount\")\n",
    "prices_results"
   ]
  },
  {
   "cell_type": "code",
   "execution_count": 11,
   "metadata": {},
   "outputs": [
    {
     "name": "stdout",
     "output_type": "stream",
     "text": [
      "-------------\n",
      "$85\n",
      "-------------\n",
      "$75\n",
      "-------------\n",
      "$90\n",
      "-------------\n",
      "$85\n",
      "-------------\n",
      "$120\n",
      "-------------\n",
      "$90\n",
      "-------------\n",
      "$118\n",
      "-------------\n",
      "$135\n",
      "-------------\n",
      "$125\n",
      "-------------\n",
      "$99\n",
      "-------------\n",
      "$94\n",
      "-------------\n",
      "$110\n",
      "-------------\n",
      "$99\n",
      "-------------\n",
      "$180\n",
      "-------------\n",
      "$108\n",
      "-------------\n",
      "$82\n",
      "-------------\n",
      "$135\n",
      "-------------\n",
      "$160\n",
      "-------------\n",
      "$75\n",
      "-------------\n",
      "$96\n"
     ]
    }
   ],
   "source": [
    "# loop through returned results\n",
    "rental_prices = []\n",
    "for result in prices_results:\n",
    "    # Error handling\n",
    "    try:\n",
    "        # Identify and return name of hotel\n",
    "        price = result.text\n",
    "        \n",
    "        # Print results only if title, price, and link are available\n",
    "        if (price):\n",
    "            print('-------------')\n",
    "            print(price)\n",
    "            rental_prices.append(price)\n",
    "    except AttributeError as e:\n",
    "        print(e)"
   ]
  },
  {
   "cell_type": "code",
   "execution_count": 12,
   "metadata": {},
   "outputs": [],
   "source": [
    "df = pd.DataFrame(list(zip(rental_names, rental_prices)),\n",
    "              columns=['Rental Room','Rental Price'])"
   ]
  },
  {
   "cell_type": "code",
   "execution_count": 14,
   "metadata": {},
   "outputs": [],
   "source": [
    "df.to_csv(\"rental_rooms\")"
   ]
  },
  {
   "cell_type": "code",
   "execution_count": null,
   "metadata": {},
   "outputs": [],
   "source": []
  }
 ],
 "metadata": {
  "kernelspec": {
   "display_name": "Python 3",
   "language": "python",
   "name": "python3"
  },
  "language_info": {
   "codemirror_mode": {
    "name": "ipython",
    "version": 3
   },
   "file_extension": ".py",
   "mimetype": "text/x-python",
   "name": "python",
   "nbconvert_exporter": "python",
   "pygments_lexer": "ipython3",
   "version": "3.6.5"
  }
 },
 "nbformat": 4,
 "nbformat_minor": 2
}
